{
  "nbformat": 4,
  "nbformat_minor": 0,
  "metadata": {
    "colab": {
      "provenance": [],
      "authorship_tag": "ABX9TyOHwmwEWrriXI6Mw97JGBrh",
      "include_colab_link": true
    },
    "kernelspec": {
      "name": "ir",
      "display_name": "R"
    },
    "language_info": {
      "name": "R"
    }
  },
  "cells": [
    {
      "cell_type": "markdown",
      "metadata": {
        "id": "view-in-github",
        "colab_type": "text"
      },
      "source": [
        "<a href=\"https://colab.research.google.com/github/juanfisicobr/seminario_PPGEC/blob/main/Distribui%C3%A7%C3%A3o_Normal_Padr%C3%A3o.ipynb\" target=\"_parent\"><img src=\"https://colab.research.google.com/assets/colab-badge.svg\" alt=\"Open In Colab\"/></a>"
      ]
    },
    {
      "cell_type": "code",
      "source": [
        "png(filename = \"distribuicao_normal.png\",\n",
        "    width = 8, height = 4.5, units = \"in\", res = 300)\n",
        "# 1. Parâmetros da Distribuição Normal Padrão\n",
        "mu <- 0   # Média\n",
        "sd <- 1   # Desvio Padrão\n",
        "\n",
        "# 2. Configuração do ambiente de plotagem\n",
        "# Define uma margem inferior maior (mar) para acomodar os rótulos de porcentagem.\n",
        "# 'xaxt=\"n\"' suprime o eixo x padrão para podermos personalizar.\n",
        "# 'ylim' garante espaço abaixo do eixo x (até -0.15)\n",
        "plot(c(-5.5, 5.5), c(0, 0.45), type = \"n\",\n",
        "     xlab = \"Número de Desvios Padrão (z)\", ylab = \"Densidade\",\n",
        "     main = expression(paste(\"Distribuição Normal Padrão (\", mu, \" = 0, \", sigma, \" = 1)\")),\n",
        "     xaxt = \"n\")\n",
        "\n",
        "# 3. Desenho da Curva de Densidade\n",
        "# 'curve' plota a função dnorm (densidade normal) no intervalo de -3.5 a 3.5\n",
        "curve(dnorm(x, mean = mu, sd = sd),\n",
        "      from = -5.5, to = 5.5,\n",
        "      n = 200, col = \"blue\", lwd = 2, add = TRUE)\n",
        "\n",
        "# 4. Adição dos Eixos e Rótulos (símbolos ±s)\n",
        "# Cria pontos de tick personalizados para o eixo x.\n",
        "eixos_x <- c(-5,-4,-3, -2, -1, 0, 1, 2, 3, 4, 5)\n",
        "eixos_labels <- c(expression(\"-5s\"), expression(\"-4s\"), expression(\"-3s\"), expression(\"-2s\"), expression(\"-1s\"),\n",
        "                  \"0\", expression(\"1s\"), expression(\"2s\"), expression(\"3s\"), expression(\"4s\"), expression(\"5s\"))\n",
        "\n",
        "axis(side = 1, at = eixos_x, labels = eixos_labels, padj = 0.5)\n",
        "\n",
        "# 5. Desenho das Linhas Verticais\n",
        "# Linhas principais (±1s, ±2s, ±3s) e a média (0)\n",
        "abline(v = c(-5,-4,-3, -2, -1, 0, 1, 2, 3, 4,5), lty = 1, col = \"grey50\")\n",
        "\n",
        "# 6. Adição das Porcentagens e Barras Horizontais (Regra Empírica)\n",
        "# Define as coordenadas Y para as barras de porcentagem\n",
        "y_bar_1s <- 0.1\n",
        "y_bar_2s <- 0.05\n",
        "y_bar_3s <- 0.0\n",
        "\n",
        "# Níveis de Desvio Padrão (z-scores)\n",
        "z_scores <- c(1, 2, 3)\n",
        "\n",
        "# Porcentagens (valores aproximados da imagem)\n",
        "percentages <- c(\"68.26%\", \"95.44%\", \"99.74%\")\n",
        "\n",
        "# Cores para as barras (opcional, mas ajuda na visualização)\n",
        "bar_colors <- c(\"black\", \"black\", \"black\")\n",
        "\n",
        "# -----------------\n",
        "# Barra para ± 1s (68.26%)\n",
        "segments(-z_scores[1], y_bar_1s, z_scores[1], y_bar_1s, lwd = 2, col = bar_colors[1])\n",
        "segments(-z_scores[1], y_bar_1s, -z_scores[1], 0, lwd = 1, lty = 3) # Linha de apoio esq\n",
        "segments(z_scores[1], y_bar_1s, z_scores[1], 0, lwd = 1, lty = 3) # Linha de apoio dir\n",
        "text(0, y_bar_1s + 0.015, percentages[1], cex = 1.0) # Rótulo central\n",
        "\n",
        "# Barra para ± 2s (95.44%)\n",
        "segments(-z_scores[2], y_bar_2s, z_scores[2], y_bar_2s, lwd = 2, col = bar_colors[2])\n",
        "segments(-z_scores[2], y_bar_2s, -z_scores[2], 0, lwd = 1, lty = 3) # Linha de apoio esq\n",
        "segments(z_scores[2], y_bar_2s, z_scores[2], 0, lwd = 1, lty = 3) # Linha de apoio dir\n",
        "text(0, y_bar_2s + 0.015, percentages[2], cex = 1.0) # Rótulo central\n",
        "\n",
        "# Barra para ± 3s (99.74%)\n",
        "segments(-z_scores[3], y_bar_3s, z_scores[3], y_bar_3s, lwd = 2, col = bar_colors[3])\n",
        "segments(-z_scores[3], y_bar_3s, -z_scores[3], 0, lwd = 1, lty = 3) # Linha de apoio esq\n",
        "segments(z_scores[3], y_bar_3s, z_scores[3], 0, lwd = 1, lty = 3) # Linha de apoio dir\n",
        "text(0, y_bar_3s + 0.015, percentages[3], cex = 1.0) # Rótulo central\n",
        "\n",
        "# Linhas externas do gráfico (vermelhas na imagem original)\n",
        "abline(v = c(-5.5, 5.5), col = \"purple3\", lwd = 2)\n",
        "\n",
        "# Adicionando o eixo X com a linha 0\n",
        "abline(h = 0)\n",
        "\n",
        "dev.off()"
      ],
      "metadata": {
        "id": "YAzkMdVpk86f",
        "colab": {
          "base_uri": "https://localhost:8080/",
          "height": 34
        },
        "outputId": "e76d8ef6-2866-47e6-a3b6-4566e9b735c7"
      },
      "execution_count": 1,
      "outputs": [
        {
          "output_type": "display_data",
          "data": {
            "text/html": [
              "<strong>agg_record_2037505141:</strong> 2"
            ],
            "text/markdown": "**agg_record_2037505141:** 2",
            "text/latex": "\\textbf{agg\\textbackslash{}\\_record\\textbackslash{}\\_2037505141:} 2",
            "text/plain": [
              "agg_record_2037505141 \n",
              "                    2 "
            ]
          },
          "metadata": {}
        }
      ]
    }
  ]
}